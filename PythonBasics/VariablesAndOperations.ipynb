{
 "cells": [
  {
   "attachments": {},
   "cell_type": "markdown",
   "metadata": {},
   "source": [
    "In the Installation tutorial, we tried to install Python and to ssetup Python for Data Science, AI and ML tasks and in the  Jupyter Notebook tutorial, we discovered Jupyter Notebook and how to manage our files.\n",
    "\n",
    "And amazing, you wrote you first python program, HelloWord. So, for now you're able to print a text using Python with the 'print()' function.\n",
    "\n",
    "Now, let's start properly Python basics with 'Variables'."
   ]
  },
  {
   "attachments": {},
   "cell_type": "markdown",
   "metadata": {},
   "source": [
    "## .............................................. OVERVIEW ABOUT VARIABLES ..............................................\n",
    "## =================================================="
   ]
  },
  {
   "attachments": {},
   "cell_type": "markdown",
   "metadata": {},
   "source": [
    "What's a variable ?\n",
    "\n",
    "Variables are one fo the core concepts found in virtually all programming languages. It provide developpers a way to store and manipulate data in their programs, and are essential in executing complex algorithms and operations.\n",
    "\n",
    "'It's not possible to write a program without variables and this is very far to be an exageration!'"
   ]
  },
  {
   "attachments": {},
   "cell_type": "markdown",
   "metadata": {},
   "source": [
    "A variable is commonly considered as a sort of box containing a value. This box is sorted on a shelf among many others, in a huge warehouse.\n",
    "Nevertheless, the location of each box is precisely listed , just like our computers track the memory locatio of our variables."
   ]
  },
  {
   "attachments": {},
   "cell_type": "markdown",
   "metadata": {},
   "source": [
    "A value is a part of your data you should be storing in a variable.\n",
    "Different variables can store different values(Take a look on our first exemple on the Warehouse). \n",
    "\n",
    "Considering our variables as boxes, we can perform various actions such as emptying them, adding them a value, transfering the contents from one to another and more."
   ]
  },
  {
   "attachments": {},
   "cell_type": "markdown",
   "metadata": {},
   "source": [
    "### Naming Variables\n",
    "\n",
    "In order to keep track of the contents of each box, we'll need to label them. The process is similar in programming : each variable is assigned a name.\n",
    "\n",
    "The name of a variable must always represent it's content. "
   ]
  },
  {
   "attachments": {},
   "cell_type": "markdown",
   "metadata": {},
   "source": [
    "Here are some general recommendations for naming variables."
   ]
  },
  {
   "attachments": {},
   "cell_type": "markdown",
   "metadata": {},
   "source": [
    "### Use clear variable names\n",
    "\n",
    "It may seem tedious to do, but it is really beneficial for us and those with whom we will be sharing our code: it makes the code easier to read and maintain.\n",
    "\n",
    "For example, to store a students marks in English and French, *englishMark* and *frenchMark* are much more explicit names than *mark1* and *mark2*."
   ]
  },
  {
   "attachments": {},
   "cell_type": "markdown",
   "metadata": {},
   "source": [
    "### Use explicit variable names\n",
    "\n",
    "It's advised to avoid abbreviations and acronyms if possible, even if it may seem obvious. \n",
    "\n",
    "For exemple, *englishAverage* is better than *Eavg* for a student average in English lesson."
   ]
  },
  {
   "attachments": {},
   "cell_type": "markdown",
   "metadata": {},
   "source": [
    "### Respect a typographic convention\n",
    "\n",
    "One of the most common typographic conventions is called camel case (also known as camel caps) - it involves writing variable names that contain multiple words without spaces or punctuation: the first word is written in lowercase, then each word is written with the first letter in uppercase, as shown above with *englichMark*, *frenchMark* and *englishAverage*."
   ]
  },
  {
   "attachments": {},
   "cell_type": "markdown",
   "metadata": {},
   "source": [
    "## ................ CREATE VARIABLES .............."
   ]
  },
  {
   "attachments": {},
   "cell_type": "markdown",
   "metadata": {},
   "source": [
    "Before using a variable, we must create it. And to do that , we just need to associate a value to a name(given to the variable). \n",
    "\n",
    "There are different types of variables in programming languages representative of reality.\n",
    "\n",
    "Exemple : Let's assign a mark in English and French to Dan, a student."
   ]
  },
  {
   "cell_type": "code",
   "execution_count": null,
   "metadata": {},
   "outputs": [],
   "source": [
    "englishMark = 17\n",
    "frenchMark = 15"
   ]
  },
  {
   "attachments": {},
   "cell_type": "markdown",
   "metadata": {},
   "source": [
    "Dan has 17 as mark in English and 15 in French.\n",
    "\n",
    "It's possible to modify a variable value. To do that, you just follow the syntax used a while with the new value."
   ]
  },
  {
   "cell_type": "code",
   "execution_count": null,
   "metadata": {},
   "outputs": [],
   "source": [
    "englishMark = 18"
   ]
  },
  {
   "attachments": {},
   "cell_type": "markdown",
   "metadata": {},
   "source": [
    "Now, Dan has 18 as mark in English. The previous mark is no more accessible using that variable."
   ]
  },
  {
   "attachments": {},
   "cell_type": "markdown",
   "metadata": {},
   "source": [
    "## .................................................. OPERATING ON VARIABLES ........................................"
   ]
  },
  {
   "attachments": {},
   "cell_type": "markdown",
   "metadata": {},
   "source": [
    "To illustrate this section, we will refer to the functioninga bank where a client holds a savings account and a current account.\n",
    "\n",
    "Considering this, a client can :\n",
    "\n",
    "*add a little money to his current acount*\n",
    "\n",
    "*withdraw from his current account*\n",
    "\n",
    "*Calculate how long it would take for him to reach 10,000€ if he saves 450€ every month*\n",
    "\n",
    "*Calculate how much his current account would be if he added 25€ every day for two weeks.*\n",
    "\n",
    "*Calculate how much his current account would be if he spent 10€ every day in a week*\n"
   ]
  },
  {
   "attachments": {},
   "cell_type": "markdown",
   "metadata": {},
   "source": [
    "So, we can resolve real problems using Python. Every operation calls specific arithmetic operators!!\n",
    "\n",
    "**'+'** : addition\n",
    "**'-'** : subtraction\n",
    "**'*'** : multiplication\n",
    "**'/'** : division\n",
    "\n",
    "And, there are also some complex arithmetic operators such us : \n",
    "**'%'** : modulo (It return the remainder of the Ecludian division )\n",
    "*'**'* : power (it allows to raise a number to a certain power)\n",
    "**//** : Integer division (calculates the integer division (number rounded down))\n",
    "\n"
   ]
  },
  {
   "cell_type": "code",
   "execution_count": null,
   "metadata": {},
   "outputs": [],
   "source": [
    "\"\"\" Considering our illustration problem,\n",
    " here how we can realize it in Python language.\n",
    " Do you like Dollars ?\"\"\"\n",
    "\n",
    "#First, suppose that the client initially has 250$  on his Current account\n",
    "#and 950$  on his savings account.\n",
    "\n",
    "currentAccount = 250\n",
    "savingsAccount = 950\n",
    "\n",
    "#add 75$ to his savings account(yes, it's goimg)\n",
    "savingsAccount = savingsAccount + 75\n",
    "\n",
    "#withdraw 67$ from his current account\n",
    "currentAccount = currentAccount - 67\n",
    "\n",
    "#Calculate how long it would take for him to reach 10,000$ if he saves 450€ every month\n",
    "numberOfDaysToEconomize = (10000 - currentAccount)/450\n",
    "\n",
    "#update his current account after gaining and spending money\n",
    "currentAccount = currentAccount + (25 - 10) * 7 - 10 * 7\n"
   ]
  },
  {
   "attachments": {},
   "cell_type": "markdown",
   "metadata": {},
   "source": [
    "Take an attentive look on the previous code cell. You should be seing different colors. It's because the code lines are composed of comments and expressions:\n",
    "\n",
    "*The lines beginning with # are one line Comments and the text contained in \"\"\" \"\"\" is a multiple line comment.* the are used to document code and make it more understandable for other people.\n",
    "\n",
    "*The oders withc allow declarations, operations,.. are called expressions.* It specify to the computer what to do.\n"
   ]
  },
  {
   "attachments": {},
   "cell_type": "markdown",
   "metadata": {},
   "source": [
    "In our case, each expression assigns a value to a variable via the assignment operator *'='*.\n",
    "\n",
    "1. At the left of the assignment operator, we write the name of the variable we are going to assign a value.\n",
    "2. At it's right, we write the expression of value wich is going to be assigned to the variable."
   ]
  },
  {
   "attachments": {},
   "cell_type": "markdown",
   "metadata": {},
   "source": [
    "We used only simple operators in the previous lines of code. Let's use complex operators now!"
   ]
  },
  {
   "cell_type": "code",
   "execution_count": null,
   "metadata": {},
   "outputs": [],
   "source": [
    "m = 300\n",
    "# what the remainder of the divisio of m per 11 ?\n",
    "print(m % 11)  # 3\n",
    "# m = 300 = 11 * 27 + 3 so 300 % 11 = 3\n",
    "\n",
    "#Raise m to the power of 2\n",
    "print(m ** 2) # 90000 , 300 * 300 = 90000\n",
    "\n",
    "# what is the result of the integer division of m per 11 ?\n",
    "print(m // 11)  #27\n",
    "# m = 300 = 11 * 27 + 3 so m // 11 = 27"
   ]
  },
  {
   "attachments": {},
   "cell_type": "markdown",
   "metadata": {},
   "source": [
    "Great!! It's time to practise.\n",
    "\n",
    "Try this following exercise on simple operators."
   ]
  },
  {
   "attachments": {},
   "cell_type": "markdown",
   "metadata": {},
   "source": [
    "Dan our small student has exams in English and French. He got 19 in English and 16 in French.\n",
    "\n",
    "*Create variables to store each of his marks*\n",
    "*create a variable 'average' to store the average of his two marks*\n",
    "*execute your code*"
   ]
  },
  {
   "cell_type": "code",
   "execution_count": null,
   "metadata": {},
   "outputs": [],
   "source": [
    "# create a variable to store his mark in English\n",
    "---- = ----\n",
    "\n",
    "# create a variable to store his mark in French\n",
    "---- = ----\n",
    "\n",
    "#calculate the average of his marks\n",
    "average = ----\n",
    "\n",
    "#print this\n",
    "print(\"Dan has \", average , \" as average in English and French.\")"
   ]
  },
  {
   "attachments": {},
   "cell_type": "markdown",
   "metadata": {},
   "source": [
    "Do you got this outpout ? \n",
    "*Dan has 17.5 as average in English and French.*"
   ]
  },
  {
   "attachments": {},
   "cell_type": "markdown",
   "metadata": {},
   "source": [
    "## *SOME TIPS*\n",
    "We can make our code shorter with simplified operators.\n",
    "\n",
    "When you want to change a variable by modifying its initial value through a basic operator, you can use a shorter version. In other words, you can use simplified operators! For example, instead of using the expression currentAccount = currentAccount + 75 to add 75$ to your variable, you can use a kind of double arithmetic/assignment operator +=."
   ]
  },
  {
   "cell_type": "code",
   "execution_count": null,
   "metadata": {},
   "outputs": [],
   "source": [
    "# explicit version\n",
    "currentAccount = currentAccount + 75\n",
    "\n",
    "# equivalent to short version:\n",
    "currentAccount += 75"
   ]
  },
  {
   "attachments": {},
   "cell_type": "markdown",
   "metadata": {},
   "source": [
    "It's naturally possible for each operator seen previously :\n",
    "\n",
    "-=  for subtraction\n",
    "/=  for division\n",
    "*=  for multiplication\n",
    "//= for integer division\n",
    "%=  for the remainder of integer division , and more.\n",
    "\n",
    "Make practise to get master the use of those operators."
   ]
  },
  {
   "attachments": {},
   "cell_type": "markdown",
   "metadata": {},
   "source": [
    "Remember our Warehouse.\n",
    "Boxes can contain different type of objects. Samely, a variable can contain different types of variables.\n",
    "a variable can contain a string(text), an integer as we did it since we started learning them, a float and ...\n",
    "Python itself manage the memory assignment to handle variables and their values.\n",
    "\n",
    "As their name suggests, variables can vary both in value and type. Typing is dynamic in Python."
   ]
  },
  {
   "cell_type": "code",
   "execution_count": null,
   "metadata": {},
   "outputs": [],
   "source": [
    "#define a string(text) variable .. \n",
    "#We can use quotes or double quotes for it\n",
    "firstname = 'Dan'\n",
    "lastname = \"WINNER\" \n",
    "# both firstname and lastname are text variables.\n",
    "\n",
    "#define an integer variable\n",
    "mark = 12\n",
    "\n",
    "#define a float variable\n",
    "average = 17.5\n",
    "\n",
    "#testing the dynamic typing of python\n",
    "\n",
    "# Look at the output of this line of code\n",
    "print(type(average))\n",
    "# it outputs <class 'float'> that means that average contains a float\n",
    "\n",
    "#try this\n",
    "average = '17.5'\n",
    "# run print(type(average))\n",
    "# it outputs <class 'str'> that means that average contains a string \n",
    "# otherwise, average contains a text."
   ]
  },
  {
   "attachments": {},
   "cell_type": "markdown",
   "metadata": {},
   "source": [
    "Good, you now have a good notions on variable and we can start coding and manipulation different types of variables. \n",
    "\n",
    "Good trip🤩 !!!"
   ]
  }
 ],
 "metadata": {
  "kernelspec": {
   "display_name": "Python 3",
   "language": "python",
   "name": "python3"
  },
  "language_info": {
   "codemirror_mode": {
    "name": "ipython",
    "version": 3
   },
   "file_extension": ".py",
   "mimetype": "text/x-python",
   "name": "python",
   "nbconvert_exporter": "python",
   "pygments_lexer": "ipython3",
   "version": "3.11.2"
  },
  "orig_nbformat": 4,
  "vscode": {
   "interpreter": {
    "hash": "34a96a52f84a92975c62be0a6a84fcd7d964c9e77aabc127f45886a894be1c86"
   }
  }
 },
 "nbformat": 4,
 "nbformat_minor": 2
}
