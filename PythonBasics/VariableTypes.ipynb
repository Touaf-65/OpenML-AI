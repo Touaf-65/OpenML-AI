{
 "cells": [
  {
   "attachments": {},
   "cell_type": "markdown",
   "metadata": {},
   "source": [
    "Do you remember the overview we had on Variables in 'VariablesAndOperations' ?\n",
    "Just like boxes can contain differents objects in our warehouse (books , peens, jackets , weapons and more) and can be different from each other, variables can have different values and different definitions. \n",
    "This aspect gives birth to the concept of *variable typing*."
   ]
  },
  {
   "attachments": {},
   "cell_type": "markdown",
   "metadata": {},
   "source": [
    "# .............................. VARIABLE TYPES .............................."
   ]
  },
  {
   "attachments": {},
   "cell_type": "markdown",
   "metadata": {},
   "source": [
    "In python, there are default types of variables called **'Primitive types'**.\n",
    "\n",
    "Note : All variables we've created in 'VariablesAndOperations' are all  *primitive types*.\n",
    "\n",
    "These are the simplest variable types; they represent the foundation of all operations and all computer programs. To perform some complex operations, We can combine them to create complex types.\n",
    "\n",
    "As primitive types, we distinguish *Numeric Types* and *String Types*.\n",
    "\n",
    "Let's discover them👌."
   ]
  },
  {
   "attachments": {},
   "cell_type": "markdown",
   "metadata": {},
   "source": [
    "                                            NUMERIC VARIABLES\n",
    "                                            ================="
   ]
  },
  {
   "attachments": {},
   "cell_type": "markdown",
   "metadata": {},
   "source": [
    "Do you know it ? Even in Mathemetics, Numeric values can be broken down into to big distinct types : Integers and Decimal numbers. \n",
    "And Python is Mathemathics...\n",
    "\n",
    "### *Integers*\n",
    "The correspond to the set of positive or negative whole numbers: 0, -4, 7, 1, -500 , ...\n",
    "\n",
    "### *Decimal numbers*\n",
    " In addition to integers, include all decimal numbers also called floats.\n",
    "\n",
    "To declare an integer, we just need to respect the steps of variable declaration by assigning a value( a positive or negative number here) to a name.\n",
    "\n"
   ]
  },
  {
   "cell_type": "code",
   "execution_count": null,
   "metadata": {},
   "outputs": [],
   "source": [
    "# Let's declare a first integer\n",
    "intVariable1 = 13\n",
    "\n",
    "# A second one\n",
    "intVariable2 = -8656\n",
    "\n",
    "# A third one\n",
    "intVariable3 = 0\n",
    "\n",
    "\"\"\" Since values assigned to all the previous variables are\n",
    "non float numbers otherwise integers, their type is \n",
    "automatically  'int' .\n",
    "Check it with the function 'type' running this :\n",
    "\"\"\"\n",
    "\n",
    "print('intVariable1 is an ' + type(intVariable1))\n",
    "\n",
    "print('intVariable2 is an ' + type(intVariable2))\n",
    "\n",
    "print('intVariable3 is an ' + type(intVariable3))"
   ]
  },
  {
   "attachments": {},
   "cell_type": "markdown",
   "metadata": {},
   "source": [
    "Samely, to declare a decimal number, we just need to assign to a name(the variable's one) a decimal value.\n",
    "Look for this examples"
   ]
  },
  {
   "cell_type": "code",
   "execution_count": null,
   "metadata": {},
   "outputs": [],
   "source": [
    "# A big length\n",
    "length = 156.9\n",
    "\n",
    "#A small width\n",
    "width = 9.0\n",
    "\n",
    "# The area now\n",
    "area = 1412.1\n",
    "\n",
    "# type of variables\n",
    "print(type(length))\n",
    "\n",
    "print(type(width))\n",
    "\n",
    "print(type(area))"
   ]
  },
  {
   "attachments": {},
   "cell_type": "markdown",
   "metadata": {},
   "source": [
    "In reality, the variable *width = 9.0* equals to the integer *9* but, width is not an integer cause of it's declaration as a float using '0' after the dot.\n"
   ]
  },
  {
   "attachments": {},
   "cell_type": "markdown",
   "metadata": {},
   "source": [
    "### Operating on Numeric Variables\n",
    "\n",
    "When operating on different types, the most complex one will necessarily be the one preserved for the final result.\n",
    "\n",
    "if you mix an 'int' and a 'float' , the most complex type is 'float' so, the result should always be a 'float' as seen early with *length*, *width* and *area* variables.\n",
    "\n"
   ]
  },
  {
   "cell_type": "code",
   "execution_count": 1,
   "metadata": {},
   "outputs": [],
   "source": [
    "# Another example\n",
    "\n",
    "# initial account\n",
    "currentAccount = 500 #int\n",
    "\n",
    "# rate\n",
    "rate = 0.005 #float\n",
    "\n",
    "# gain\n",
    "gain = currentAccount * rate # int * float -> float\n",
    "\n",
    "# current account\n",
    "currentAccount += gain # int + float -> float\n"
   ]
  },
  {
   "attachments": {},
   "cell_type": "markdown",
   "metadata": {},
   "source": [
    "An operation between integers can also give a decimal number. Python will automatically convert the type into float. \n",
    "\n",
    "*With the division (even if the result is supposed to be integer) it will necessarily return a float as well*"
   ]
  },
  {
   "cell_type": "code",
   "execution_count": null,
   "metadata": {},
   "outputs": [],
   "source": [
    "a = 7\n",
    "b = 3\n",
    "c = a/b\n",
    "\n",
    "print(c)\n",
    "print(type(c)) # c is a float"
   ]
  },
  {
   "attachments": {},
   "cell_type": "markdown",
   "metadata": {},
   "source": [
    "However, we can force the conversion of a variable into a well-defined type. This is called typecasting, because by doing so, we are reshaping the type of a variable. To do this, you will need the corresponding functions:\n",
    "\n",
    "    int() : for integers;\n",
    "\n",
    "    float() : for decimals\n",
    "\n",
    "we can convert integers to floats and equivalent floats to integers."
   ]
  },
  {
   "cell_type": "code",
   "execution_count": null,
   "metadata": {},
   "outputs": [],
   "source": [
    "a = 8 # int\n",
    "# Let's convert it to a float\n",
    "a = float(a) # float\n",
    "print(a)\n",
    "\n",
    "b = 287.0 # float\n",
    "# Let's convert it to an int\n",
    "b = int(b) # int\n",
    "print(b)"
   ]
  },
  {
   "attachments": {},
   "cell_type": "markdown",
   "metadata": {},
   "source": [
    "                                                STRINGS\n",
    "                                                ======="
   ]
  },
  {
   "attachments": {},
   "cell_type": "markdown",
   "metadata": {},
   "source": [
    "Strings allow you to store text in our variables. They are called strings, because Python does not consider these variables as text per se, but as a set of characters put together. This is how you can define strings in Python."
   ]
  },
  {
   "cell_type": "code",
   "execution_count": null,
   "metadata": {},
   "outputs": [],
   "source": [
    "name = 'Touaf'\n",
    "sexe = \"Male\"\n",
    "comment = '' # comment is an empty string"
   ]
  },
  {
   "attachments": {},
   "cell_type": "markdown",
   "metadata": {},
   "source": [
    "Like Numeric Variables, we can make some operations with strings such as *Concatenation* and *Multiplication*\n",
    "\n",
    "### Concatenation "
   ]
  },
  {
   "cell_type": "code",
   "execution_count": null,
   "metadata": {},
   "outputs": [],
   "source": [
    "firstname = 'Touafic'\n",
    "nickame = 'Touaf'\n",
    "myName = nickame + firstname\n",
    "\n",
    "print(myName) # -> Touaftouafic"
   ]
  },
  {
   "attachments": {},
   "cell_type": "markdown",
   "metadata": {},
   "source": [
    "Note, there is no space between the two words.\n",
    "Let's make it more readable\n"
   ]
  },
  {
   "cell_type": "code",
   "execution_count": null,
   "metadata": {},
   "outputs": [],
   "source": [
    "firstname = 'Touafic'\n",
    "nickame = 'Touaf'\n",
    "myName = 'My nickname is' + nickame +'and my name is' + firstname\n",
    "\n",
    "print(myName) # -> My nickname is Touaf and my name is Touafic"
   ]
  },
  {
   "attachments": {},
   "cell_type": "markdown",
   "metadata": {},
   "source": [
    "You're asking yourself how we can add our age to our presentation ? Don't worry, Python offers you this right."
   ]
  },
  {
   "cell_type": "code",
   "execution_count": null,
   "metadata": {},
   "outputs": [],
   "source": [
    "myAge = 20\n",
    "myPresentation = myName + \"I'm \" + str(myAge) + \" years old.\" "
   ]
  },
  {
   "attachments": {},
   "cell_type": "markdown",
   "metadata": {},
   "source": [
    "## Multiplication"
   ]
  },
  {
   "attachments": {},
   "cell_type": "markdown",
   "metadata": {},
   "source": [
    "We can multiply the content of a string using the '*' operator.\n",
    "It generates a new string composed of n concatenation of the initial string."
   ]
  },
  {
   "cell_type": "code",
   "execution_count": null,
   "metadata": {},
   "outputs": [],
   "source": [
    "word1 = 'so'\n",
    "\n",
    "# Lets assign word1 * 3 to word2\n",
    "\n",
    "word2 = word1 * 3\n",
    "\n",
    "print(word2)\n",
    "# Awesome it outpouts 'sososo'"
   ]
  },
  {
   "attachments": {},
   "cell_type": "markdown",
   "metadata": {},
   "source": [
    "To summarize, we have encountered three primitive types of variables that are essential to any program/analysis:integers (int); decimals (float) and strings (string).\n",
    "\n",
    "We have also seen how to manipulate these different types:\n",
    "\n",
    " *perform numerical operations on numeric variables of different types*\n",
    "\n",
    " *cast variables to force the transformation of a variable's type to another specific type, depending on our needs*\n",
    "\n",
    " *strings can be assembled together: this is concatenation*\n",
    "\n",
    " *strings can be concatenated with themselves using multiplication operator*"
   ]
  },
  {
   "attachments": {},
   "cell_type": "markdown",
   "metadata": {},
   "source": [
    "Make practice and flex your python muscles 💪"
   ]
  }
 ],
 "metadata": {
  "kernelspec": {
   "display_name": "Python 3",
   "language": "python",
   "name": "python3"
  },
  "language_info": {
   "codemirror_mode": {
    "name": "ipython",
    "version": 3
   },
   "file_extension": ".py",
   "mimetype": "text/x-python",
   "name": "python",
   "nbconvert_exporter": "python",
   "pygments_lexer": "ipython3",
   "version": "3.9.7"
  },
  "orig_nbformat": 4,
  "vscode": {
   "interpreter": {
    "hash": "c347c8f9a7ef94e4c9e03b4513be7835ed18f45b99a2a817fb579f408b867b16"
   }
  }
 },
 "nbformat": 4,
 "nbformat_minor": 2
}
