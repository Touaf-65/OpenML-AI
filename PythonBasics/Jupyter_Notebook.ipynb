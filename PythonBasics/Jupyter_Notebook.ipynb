{
 "cells": [
  {
   "attachments": {},
   "cell_type": "markdown",
   "metadata": {},
   "source": [
    "Jupyter Notebook is a web application that allows you to store lines of Python code, the results of their execution -like tables, graphs and more- and formatted text. It can be simply compared to a web page containing Python code ! just like this platform, Github."
   ]
  },
  {
   "attachments": {},
   "cell_type": "markdown",
   "metadata": {},
   "source": [
    "................................DISCOVER JUPYTER NOTEBOOK..................................\n",
    "========================="
   ]
  },
  {
   "attachments": {},
   "cell_type": "markdown",
   "metadata": {},
   "source": [
    "Jupyter Notebook is a powerful tool that allows users of the Python language to create and share interactive documents containing dynamic and executable code, content visualizations, documentation text, and equations. The term \"notebook\" is related to the intrinsic nature of the tool which allows for writing small executable snippets of code (called \"cells\"), documenting them to explain what they do and displaying the data resulting from their execution. All of this is stored in a shareable document with other users.\n",
    "\n",
    "Take a look on the following lines of code : \n"
   ]
  },
  {
   "cell_type": "code",
   "execution_count": 79,
   "metadata": {},
   "outputs": [
    {
     "name": "stdout",
     "output_type": "stream",
     "text": [
      "A small Question for you : \n",
      " **Is this file a Notebook ?**\n",
      "Hope that you found the good Answer !\n"
     ]
    }
   ],
   "source": [
    "print(\"A small Question for you : \\n **Is this file a Notebook ?**\")\n",
    "print(\"Hope that you found the good Answer !\")"
   ]
  },
  {
   "attachments": {},
   "cell_type": "markdown",
   "metadata": {},
   "source": [
    "It is particularly useful to prototype algorithms or test code snippets in order to analyze the results and potentially add them to your main project. With a notebook, there is no need to organize your code into functions, with a main, etc. You just need to write your code in the predefined blocks and execute it to \"run Python\"."
   ]
  },
  {
   "attachments": {},
   "cell_type": "markdown",
   "metadata": {},
   "source": [
    "                                                JUPYTER NOTEBOOK FOR DATA ANALYSIS\n",
    "                                                =================================="
   ]
  },
  {
   "attachments": {},
   "cell_type": "markdown",
   "metadata": {},
   "source": [
    "Jupyter Notebook allows a team to create and share documents/code as reports, thus enhancing productivity and collaboration. It is a very popular application for everyone working in data analysis. \n",
    "Such as Netflix Data scientists using it for their movies recommendation algorithm.\n",
    "\n",
    "Read more about it following this link:    https://medium.com/netflix-techblog/notebook-innovation-591ee3221233"
   ]
  },
  {
   "attachments": {},
   "cell_type": "markdown",
   "metadata": {},
   "source": [
    "                                                      WAYS TO USE JUPYTER NOTEBOOK\n",
    "                                                      ============================"
   ]
  },
  {
   "attachments": {},
   "cell_type": "markdown",
   "metadata": {},
   "source": [
    "                We can use Jupyter Notebook by two ways : locally and online using Cloud.\n",
    "\n",
    "                                                                LOCAL USE\n",
    "                                                                =========\n",
    "\n",
    "To use Jupyter Notebook locally, you need to install it by following some steps. First, you have to install Python, either via Anaconda or with your operating system's package manager (ex. Homebrew on Mac or Chocolatey on Windows). Once you have Python installed, you need to use the command line to set up the notebook with the command 'pip install jupyter'.\n",
    "\n",
    "Finally, once the installation process is completed, you can launch the notebook with the command 'jupyter notebook'.\n",
    "\n",
    "Or, if you'd already installed Anaconda, you can just select \"launch Jupyter Notebook\" option via Anaconda Navigator."
   ]
  },
  {
   "attachments": {},
   "cell_type": "markdown",
   "metadata": {},
   "source": [
    "                                                                ONLINE USE\n",
    "                                                                ==========\n",
    "\n",
    "It's also possible to use Jupyter Notebook online. For that, we must sign up for an account with an online provider such as Google Colab and Azure Notebooks and upload the notebook."
   ]
  },
  {
   "attachments": {},
   "cell_type": "markdown",
   "metadata": {},
   "source": [
    "....................GETTING STARTED WITH JUPYTER NOTEBOOK...................\n",
    "=====================================\n",
    "\n",
    "It's now time to write our notebooks and run our Python scripts. \n",
    "\n",
    "First of all, open Jupyter Notebook (locally or online). A window named 'Home' will be opended in your navigator.\n",
    "\n",
    "Start creating a notebook by selecting 'New' and 'Python 3' at the top right corner of the window.\n",
    "If nothig went wrong, a new window containing the 'Name of your Notebook' that you can edit just by selecting it, a menu bar,a tool bar and an empty cell must be opened after this."
   ]
  },
  {
   "attachments": {},
   "cell_type": "markdown",
   "metadata": {},
   "source": [
    "Now, we can start scripting in Python. Do you know the first program every beginner writes in a language ? There is no doubt, it is the HelloWorld program. so, move on."
   ]
  },
  {
   "cell_type": "code",
   "execution_count": 80,
   "metadata": {},
   "outputs": [
    {
     "name": "stdout",
     "output_type": "stream",
     "text": [
      "Hello World !\n"
     ]
    }
   ],
   "source": [
    "print('Hello World !')"
   ]
  },
  {
   "attachments": {},
   "cell_type": "markdown",
   "metadata": {},
   "source": [
    "After writer this line of code, execute it using 'Run' option on tle left side of the cell. You should have 'Hello World !' the outpout under the cell.\n",
    "\n",
    "Congrats 🎉, it's your first python program.\n",
    "\n",
    "Let's document our Notebook"
   ]
  },
  {
   "attachments": {},
   "cell_type": "markdown",
   "metadata": {},
   "source": [
    ".....................................DOCUMENT A NOTEBOOK....................................\n",
    "================================================\n",
    "                                                            \n",
    "\n",
    "Notice that there are four(4) different types of cells with Jupyter : 'Code' , 'Markdown', 'Row NBconvert' and 'Heading'.\n",
    "\n",
    "It's very simple to change the type of a cell. You just have the select the cell and select the type you want to give it on the tool bar."
   ]
  },
  {
   "attachments": {},
   "cell_type": "markdown",
   "metadata": {},
   "source": [
    "                                                            CODE CELL\n",
    "                                                            =========\n",
    "Classic code cell is dedicated to writing and running Python code! You can execute your code by clicking the Run button, as seen earlier."
   ]
  },
  {
   "attachments": {},
   "cell_type": "markdown",
   "metadata": {},
   "source": [
    "                                                              HEADING\n",
    "                                                              =======\n",
    "This type is slightly obsolete. Until later, it was used to define titles, but Markdown now covers this functionality. It is expected to disappear in the actual versions of Jupyter.\n"
   ]
  },
  {
   "attachments": {},
   "cell_type": "markdown",
   "metadata": {},
   "source": [
    "                                                           RAW NBCONVERT\n",
    "                                                           =============\n",
    "Raw nbconvert allows for control over the formatting of a document when converting the notebook into another format.\n"
   ]
  },
  {
   "attachments": {},
   "cell_type": "markdown",
   "metadata": {},
   "source": [
    "                                                              MARKDOWN\n",
    "                                                              =========\n",
    "Markdown is a text cell mainly used for documenting the notebook, to write comments, titles, equations, etc. This type allows you to structure your text using HTML tags or Markdown syntax."
   ]
  },
  {
   "attachments": {},
   "cell_type": "markdown",
   "metadata": {},
   "source": [
    "We can create a title by adding a # in front of a text. Similar to a text editor, one # will give a level 1 title, two ## will yield a level 2 title, etc. \n",
    "We can also bold or italicize a text by simply surrounding the text with ** for bold and * for italic. For example, the following Markdown cell:"
   ]
  },
  {
   "attachments": {},
   "cell_type": "markdown",
   "metadata": {},
   "source": [
    "# Level 1 title\n",
    "A bit of text to showcase Markdown\n",
    "## Level 2 title\n",
    "This is very important\n",
    "## Another level 2 title\n",
    "But this too!\n",
    "\n",
    "To learn more about Markdown cells, I suggest you follow this link https://fr.acervolima.com/cellule-markdown-dans-le-bloc-notes-jupyter/"
   ]
  },
  {
   "attachments": {},
   "cell_type": "markdown",
   "metadata": {},
   "source": [
    " Now that your Python environment is set up, you're ready to dive into the real stuff !"
   ]
  }
 ],
 "metadata": {
  "kernelspec": {
   "display_name": "Python 3",
   "language": "python",
   "name": "python3"
  },
  "language_info": {
   "codemirror_mode": {
    "name": "ipython",
    "version": 3
   },
   "file_extension": ".py",
   "mimetype": "text/x-python",
   "name": "python",
   "nbconvert_exporter": "python",
   "pygments_lexer": "ipython3",
   "version": "3.11.2"
  },
  "orig_nbformat": 4,
  "vscode": {
   "interpreter": {
    "hash": "34a96a52f84a92975c62be0a6a84fcd7d964c9e77aabc127f45886a894be1c86"
   }
  }
 },
 "nbformat": 4,
 "nbformat_minor": 2
}
