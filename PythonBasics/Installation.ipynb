{
 "cells": [
  {
   "attachments": {},
   "cell_type": "markdown",
   "metadata": {},
   "source": [
    "                        Steps to Set Up Python on a Laptop\n",
    "                        ==================================\n"
   ]
  },
  {
   "attachments": {},
   "cell_type": "markdown",
   "metadata": {},
   "source": [
    "1.  Download the latest version of Python from the Python downloads page (https://www.python.org/downloads/).\n",
    "\n",
    "2.  Install Python on your laptop.\n",
    "    *   To install Python for Windows, follow these instructions(https://docs.python.org/3/using/windows.html).\n",
    "    *   To start using Python on your MacBook, see the macOS installation instructions (https://docs.python.org/3/using/mac.html).\n",
    "\n",
    "3.  Confirm the installation was successful by opening the Command Prompt or Terminal, type `python --version`, and press enter.\n",
    "\n",
    "4.  (Optional) Set up a virtual environment. This is useful when needing to create different Python environments. There are many tools available such as pyenv (https://github.com/pyenv/pyenv), virtualenv (https://github.com/pypa/virtualenv), and more.\n",
    "\n",
    "5.  Install any additional packages required for your project. This is done with the \"pip\" command (https://packaging.python.org/tutorials/installing-packages/) - `pip install <package_name>`.\n",
    "\n",
    "6.  Your Python is now set up and you can begin coding!\n",
    "\n",
    "You can Use Python IDLE to script or use a code editor to get more performance.\n",
    "    ~ Try using Thonny (A python, Javascript and Go IDE)\n",
    "        Download link : https://thony-ide.com/downloads/\n",
    "    ~ Try using Visual Studio Code ( an open-source, cross-platform source code editor developed by Microsoft)\n",
    "        Download link : (https://code.visualstudio.com/download)\n",
    "    or more other IDE integrating Python development.\n"
   ]
  },
  {
   "attachments": {},
   "cell_type": "markdown",
   "metadata": {},
   "source": [
    "After these steps, we're now ready to have fun with \".py\" files but , can we really run all those kind of files ? can we use these code editors for AI an ML development ? \n",
    "\n",
    "Noooops is the good answer!! Let's this."
   ]
  },
  {
   "attachments": {},
   "cell_type": "markdown",
   "metadata": {},
   "source": [
    "                    Set Up Python for AI, ML and Data Science\n",
    "                    =========================================\n"
   ]
  },
  {
   "attachments": {},
   "cell_type": "markdown",
   "metadata": {},
   "source": [
    "Python is a great language for doing data science and machine learning and Artificial Intelligence tasks. It has a wide variety of packages and libraries that can be used for data manipulation, analysis, and visualization.\n",
    "\n",
    "In this tutorial, we will be going over how to set up Python with PyCharm or Anaconda two powerfull tools for that.\n"
   ]
  },
  {
   "attachments": {},
   "cell_type": "markdown",
   "metadata": {},
   "source": [
    "                        Setting up Python with PyCharm\n",
    "                        ------------------------------\n",
    "\n",
    "1.  Download and install PyCharm: Go to the PyCharm downloads page(https://www.jetbrains.com/pycharm/download/) and select the version of PyCharm that you would like to download.\n",
    "    \n",
    "2.  Install the Python interpreter: In the Installation Wizard, follow the instructions to install the Python interpreter. You can choose any Python version that you want, such as 2.7 or 3.6.\n",
    "    \n",
    "3.  Run PyCharm: Once it is installed, open PyCharm. You should be able to see the Python interpreter in the “Project Interpreter” tab.\n",
    "    \n",
    "4.  Add packages and libraries: If there are any packages and libraries that you need, go to the “Project Interpreter” tab and click on the “+” icon to add them.\n",
    "    \n",
    "5.  Start coding: Now that you have your environment set up, you can start coding. Open a new file and start writing your code.\n",
    "    "
   ]
  },
  {
   "attachments": {},
   "cell_type": "markdown",
   "metadata": {},
   "source": [
    "                        Setting up Python with Anaconda\n",
    "                        -------------------------------\n",
    "\n",
    "1.  Download and install Anaconda: Go to the Anaconda download page(https://www.anaconda.com/download/) and select the version that you would like to install.\n",
    "    \n",
    "2.  Install the Python interpreter: In the installation wizard, follow the instructions to set up the Python interpreter.\n",
    "    \n",
    "3.  Create an Anaconda environment: You can create an Anaconda environment by typing 'conda create -n my\\_env python=3.6' in the command line.\n",
    "    \n",
    "4.  Activate the Python environment: You can activate the environment by typing 'source activate my\\_env' in the command line.\n",
    "    \n",
    "5.  Install additional packages and libraries: If you need additional packages and libraries, you can use the 'conda install' command to install them.\n",
    "    \n",
    "6.  Start coding: Once all the necessary packages and libraries are installed, you can open an editor and start coding.\n",
    " "
   ]
  },
  {
   "cell_type": "code",
   "execution_count": 4,
   "metadata": {},
   "outputs": [
    {
     "name": "stdout",
     "output_type": "stream",
     "text": [
      "Wooow 💥!!!\n",
      "Now that Python is set up, we can start using it for data science and machine learning tasks. Good luck!\n"
     ]
    }
   ],
   "source": [
    "Endtext = \"Now that Python is set up, we can start using it for data science and machine learning tasks. Good luck!\"\n",
    "print(\"Wooow 💥!!!\")\n",
    "print(Endtext)\n"
   ]
  },
  {
   "attachments": {},
   "cell_type": "markdown",
   "metadata": {},
   "source": [
    "        Get started and wish you'll enjoy this tutorial. \n",
    "                                          Touafic BOUAB"
   ]
  }
 ],
 "metadata": {
  "kernelspec": {
   "display_name": "Python 3",
   "language": "python",
   "name": "python3"
  },
  "language_info": {
   "codemirror_mode": {
    "name": "ipython",
    "version": 3
   },
   "file_extension": ".py",
   "mimetype": "text/x-python",
   "name": "python",
   "nbconvert_exporter": "python",
   "pygments_lexer": "ipython3",
   "version": "3.11.2"
  },
  "orig_nbformat": 4,
  "vscode": {
   "interpreter": {
    "hash": "34a96a52f84a92975c62be0a6a84fcd7d964c9e77aabc127f45886a894be1c86"
   }
  }
 },
 "nbformat": 4,
 "nbformat_minor": 2
}
